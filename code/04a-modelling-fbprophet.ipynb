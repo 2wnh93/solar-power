{
 "cells": [
  {
   "cell_type": "markdown",
   "metadata": {},
   "source": [
    "# Modelling with fbprophet\n",
    "\n",
    "This notebook has codes used to build a predictive model with fbprophet using combinations of hyperparameters. However, results were unsuccessful as it took more than 3 days to run and my cores have overheated. \n",
    "\n",
    "These are kept here for future considerations when more processing power is available. "
   ]
  },
  {
   "cell_type": "code",
   "execution_count": null,
   "metadata": {},
   "outputs": [],
   "source": [
    "#prep historical dataframe for prophet\n",
    "historical_train = train[['Croatia','time']]\n",
    "historical_train.rename(columns={'time':'ds',\n",
    "                                'Croatia':'y'}, inplace=True)"
   ]
  },
  {
   "cell_type": "code",
   "execution_count": null,
   "metadata": {},
   "outputs": [],
   "source": [
    "#set param grid \n",
    "fb_params = {'changepoint_prior_scale' : np.logspace(0.001,0.3,5),\n",
    "            'seasonality_prior_scale': np.logspace(0.01,5,5),\n",
    "            'changepoint_range': [0.3,0.5,0.95],\n",
    "            'seasonality_mode':['multiplicative','additive']}"
   ]
  },
  {
   "cell_type": "code",
   "execution_count": null,
   "metadata": {},
   "outputs": [],
   "source": [
    "#generate all combinations of parameters\n",
    "all_params = [dict(zip(fb_params.keys(),v)) for v in itertools.product(*fb_params.values())]\n",
    "# store results in each of these\n",
    "rmses = []\n",
    "maes = []"
   ]
  },
  {
   "cell_type": "code",
   "execution_count": null,
   "metadata": {},
   "outputs": [],
   "source": [
    "%%time\n",
    "#cross validation to evaluate all params\n",
    "for param in all_params:\n",
    "    prophet = Prophet(**param).fit(historical_train) #fit model with all params\n",
    "    cv_historical_train = cross_validation(prophet,horizon='31 days',parallel='processes')\n",
    "    perf_historical_train = performance_metrics(cv_historical_train, rolling_window=1)\n",
    "    rmses.append(perf_historical_train['rmse'].values[0])\n",
    "    maes.append(perf_historical_train['mae'].values[0])"
   ]
  },
  {
   "cell_type": "code",
   "execution_count": null,
   "metadata": {},
   "outputs": [],
   "source": [
    "#find the best params\n",
    "results = pd.DataFrame(all_params)\n",
    "results['rmse'] = rmses\n",
    "results['mae'] = maes\n",
    "results['mape'] = mapes"
   ]
  },
  {
   "cell_type": "markdown",
   "metadata": {},
   "source": [
    "Codes were learnt from fb diagnostics documentation. \n",
    "https://facebook.github.io/prophet/docs/diagnostics.html"
   ]
  }
 ],
 "metadata": {
  "kernelspec": {
   "display_name": "Python 3",
   "language": "python",
   "name": "python3"
  },
  "language_info": {
   "codemirror_mode": {
    "name": "ipython",
    "version": 3
   },
   "file_extension": ".py",
   "mimetype": "text/x-python",
   "name": "python",
   "nbconvert_exporter": "python",
   "pygments_lexer": "ipython3",
   "version": "3.8.5"
  }
 },
 "nbformat": 4,
 "nbformat_minor": 4
}
